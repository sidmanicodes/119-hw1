{
 "cells": [
  {
   "cell_type": "code",
   "execution_count": 1,
   "metadata": {},
   "outputs": [],
   "source": [
    "import pandas as pd"
   ]
  },
  {
   "cell_type": "code",
   "execution_count": 4,
   "metadata": {},
   "outputs": [],
   "source": [
    "df = pd.read_csv(\"./data/population.csv\")"
   ]
  },
  {
   "cell_type": "code",
   "execution_count": 6,
   "metadata": {},
   "outputs": [
    {
     "data": {
      "text/html": [
       "<div>\n",
       "<style scoped>\n",
       "    .dataframe tbody tr th:only-of-type {\n",
       "        vertical-align: middle;\n",
       "    }\n",
       "\n",
       "    .dataframe tbody tr th {\n",
       "        vertical-align: top;\n",
       "    }\n",
       "\n",
       "    .dataframe thead th {\n",
       "        text-align: right;\n",
       "    }\n",
       "</style>\n",
       "<table border=\"1\" class=\"dataframe\">\n",
       "  <thead>\n",
       "    <tr style=\"text-align: right;\">\n",
       "      <th></th>\n",
       "      <th>Entity</th>\n",
       "      <th>Code</th>\n",
       "      <th>Year</th>\n",
       "      <th>Population (historical)</th>\n",
       "    </tr>\n",
       "  </thead>\n",
       "  <tbody>\n",
       "    <tr>\n",
       "      <th>0</th>\n",
       "      <td>Afghanistan</td>\n",
       "      <td>AFG</td>\n",
       "      <td>-10000</td>\n",
       "      <td>14737</td>\n",
       "    </tr>\n",
       "    <tr>\n",
       "      <th>1</th>\n",
       "      <td>Afghanistan</td>\n",
       "      <td>AFG</td>\n",
       "      <td>-9000</td>\n",
       "      <td>20405</td>\n",
       "    </tr>\n",
       "    <tr>\n",
       "      <th>2</th>\n",
       "      <td>Afghanistan</td>\n",
       "      <td>AFG</td>\n",
       "      <td>-8000</td>\n",
       "      <td>28253</td>\n",
       "    </tr>\n",
       "    <tr>\n",
       "      <th>3</th>\n",
       "      <td>Afghanistan</td>\n",
       "      <td>AFG</td>\n",
       "      <td>-7000</td>\n",
       "      <td>39120</td>\n",
       "    </tr>\n",
       "    <tr>\n",
       "      <th>4</th>\n",
       "      <td>Afghanistan</td>\n",
       "      <td>AFG</td>\n",
       "      <td>-6000</td>\n",
       "      <td>54166</td>\n",
       "    </tr>\n",
       "  </tbody>\n",
       "</table>\n",
       "</div>"
      ],
      "text/plain": [
       "        Entity Code   Year  Population (historical)\n",
       "0  Afghanistan  AFG -10000                    14737\n",
       "1  Afghanistan  AFG  -9000                    20405\n",
       "2  Afghanistan  AFG  -8000                    28253\n",
       "3  Afghanistan  AFG  -7000                    39120\n",
       "4  Afghanistan  AFG  -6000                    54166"
      ]
     },
     "execution_count": 6,
     "metadata": {},
     "output_type": "execute_result"
    }
   ],
   "source": [
    "df.head()"
   ]
  },
  {
   "cell_type": "code",
   "execution_count": 8,
   "metadata": {},
   "outputs": [
    {
     "data": {
      "text/html": [
       "<div>\n",
       "<style scoped>\n",
       "    .dataframe tbody tr th:only-of-type {\n",
       "        vertical-align: middle;\n",
       "    }\n",
       "\n",
       "    .dataframe tbody tr th {\n",
       "        vertical-align: top;\n",
       "    }\n",
       "\n",
       "    .dataframe thead th {\n",
       "        text-align: right;\n",
       "    }\n",
       "</style>\n",
       "<table border=\"1\" class=\"dataframe\">\n",
       "  <thead>\n",
       "    <tr style=\"text-align: right;\">\n",
       "      <th></th>\n",
       "      <th>Entity</th>\n",
       "      <th>Code</th>\n",
       "      <th>Year</th>\n",
       "      <th>Population (historical)</th>\n",
       "    </tr>\n",
       "  </thead>\n",
       "  <tbody>\n",
       "  </tbody>\n",
       "</table>\n",
       "</div>"
      ],
      "text/plain": [
       "Empty DataFrame\n",
       "Columns: [Entity, Code, Year, Population (historical)]\n",
       "Index: []"
      ]
     },
     "execution_count": 8,
     "metadata": {},
     "output_type": "execute_result"
    }
   ],
   "source": [
    "df = df[df.Code != \"OWID_WRL\"]\n",
    "df[df.Code == \"OWID_WRL\"]"
   ]
  },
  {
   "cell_type": "code",
   "execution_count": 50,
   "metadata": {},
   "outputs": [],
   "source": [
    "small_df = df[:600]\n",
    "medium_df = df[:6_000]\n",
    "single_row_df = df[:1]\n",
    "\n",
    "small_df.to_csv('./data/population-small.csv', header=True)\n",
    "medium_df.to_csv('./data/population-medium.csv', header=True)\n",
    "single_row_df.to_csv('./data/population-single-row.csv', header=True)"
   ]
  },
  {
   "cell_type": "code",
   "execution_count": 51,
   "metadata": {},
   "outputs": [],
   "source": [
    "from typing import Union\n",
    "\n",
    "\n",
    "def get_yoy_increase(group: pd.DataFrame) -> Union[float | None]:\n",
    "    group = group.sort_values(by='Year')\n",
    "\n",
    "    min_year_row = group.iloc[0]\n",
    "    max_year_row = group.iloc[-1]\n",
    "\n",
    "    year_diff = max_year_row['Year'] - min_year_row['Year']\n",
    "    pop_diff = max_year_row['Population (historical)'] - min_year_row['Population (historical)']\n",
    "\n",
    "    if year_diff != 0:\n",
    "        return pop_diff / year_diff\n",
    "    return None\n",
    "\n",
    "agg_df = df.groupby(by='Entity').apply(get_yoy_increase).dropna().reset_index(name='YOY_increase')\n",
    "\n",
    "# agg_df.describe()['YOY_increase']"
   ]
  },
  {
   "cell_type": "code",
   "execution_count": 44,
   "metadata": {},
   "outputs": [
    {
     "data": {
      "text/plain": [
       "6000"
      ]
     },
     "execution_count": 44,
     "metadata": {},
     "output_type": "execute_result"
    }
   ],
   "source": [
    "test = pd.read_csv('./data/population-medium.csv')\n",
    "len(test)"
   ]
  },
  {
   "cell_type": "code",
   "execution_count": 66,
   "metadata": {},
   "outputs": [],
   "source": [
    "import numpy as np\n",
    "from tqdm import tqdm\n",
    "from collections import defaultdict"
   ]
  },
  {
   "cell_type": "code",
   "execution_count": 68,
   "metadata": {},
   "outputs": [
    {
     "name": "stderr",
     "output_type": "stream",
     "text": [
      "Iterating over rows: 59051it [00:06, 8785.64it/s] \n"
     ]
    }
   ],
   "source": [
    "def for_loop_pipeline(df: pd.DataFrame) -> list[float, float, float, float, float]:\n",
    "    # Input: the dataframe from load_input()\n",
    "    # Return a list of min, median, max, mean, and standard deviation\n",
    "    entities = df[\"Entity\"].unique()\n",
    "    entities_dict = {}\n",
    "    stats = defaultdict(dict)\n",
    "    res = [0 for _ in range(len(entities))]\n",
    "\n",
    "    for i, entity in enumerate(entities):\n",
    "        entities_dict[entity] = i\n",
    "\n",
    "    for _, entry in tqdm(df.iterrows(), desc=\"Iterating over rows\"):\n",
    "        entity = entry[\"Entity\"]\n",
    "        if entity not in stats:\n",
    "            stats[entity]['max_year'] = entry[\"Year\"]\n",
    "            stats[entity]['min_year'] = entry[\"Year\"]\n",
    "            stats[entity]['max_population'] = entry[\"Population (historical)\"]\n",
    "            stats[entity]['min_population'] = entry[\"Population (historical)\"]\n",
    "            # stats[entity]['yoy_increase'] = 0\n",
    "        else:\n",
    "            if entry[\"Year\"] > stats[entity]['max_year']:\n",
    "                stats[entity]['max_year'] = entry[\"Year\"]\n",
    "                stats[entity]['max_population'] = entry[\"Population (historical)\"]\n",
    "\n",
    "            \n",
    "            if entry[\"Year\"] < stats[entity]['min_year']:\n",
    "                stats[entity]['min_year'] = entry[\"Year\"]\n",
    "                stats[entity]['min_population'] = entry[\"Population (historical)\"]\n",
    "\n",
    "            if stats[entity]['min_year'] != stats[entity]['max_year']:\n",
    "                res[entities_dict[entity]] = (stats[entity]['max_population'] - stats[entity]['min_population']) / (stats[entity]['max_year'] - stats[entity]['min_year'])\n",
    "\n",
    "    # if max_year - min_year != 0:\n",
    "    #     stats.append((newest_pop - oldest_pop) / (max_year - min_year))\n",
    "\n",
    "    # Compute (min, median, max, mean, and standard deviation)\n",
    "    return [np.min(res), np.median(res), np.max(res), np.mean(res), np.std(res)]\n",
    "\n",
    "ans = for_loop_pipeline(df)"
   ]
  },
  {
   "cell_type": "code",
   "execution_count": 69,
   "metadata": {},
   "outputs": [
    {
     "data": {
      "text/plain": [
       "[-36.68493150684932,\n",
       " 859.3022540131415,\n",
       " 46711357.31506849,\n",
       " 330941.04907640134,\n",
       " 3104595.5846900907]"
      ]
     },
     "execution_count": 69,
     "metadata": {},
     "output_type": "execute_result"
    }
   ],
   "source": [
    "ans"
   ]
  }
 ],
 "metadata": {
  "kernelspec": {
   "display_name": "Python 3",
   "language": "python",
   "name": "python3"
  },
  "language_info": {
   "codemirror_mode": {
    "name": "ipython",
    "version": 3
   },
   "file_extension": ".py",
   "mimetype": "text/x-python",
   "name": "python",
   "nbconvert_exporter": "python",
   "pygments_lexer": "ipython3",
   "version": "3.11.5"
  }
 },
 "nbformat": 4,
 "nbformat_minor": 2
}
